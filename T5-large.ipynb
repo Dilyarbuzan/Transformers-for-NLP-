{
  "nbformat": 4,
  "nbformat_minor": 0,
  "metadata": {
    "colab": {
      "name": "Untitled1.ipynb",
      "provenance": [],
      "machine_shape": "hm",
      "authorship_tag": "ABX9TyP7SQBKs85b9VV+kqpHnNJV",
      "include_colab_link": true
    },
    "kernelspec": {
      "name": "python3",
      "display_name": "Python 3"
    },
    "accelerator": "GPU",
    "widgets": {
      "application/vnd.jupyter.widget-state+json": {
        "04f103d4773d4721a35b111bf6bc74a7": {
          "model_module": "@jupyter-widgets/controls",
          "model_name": "HBoxModel",
          "state": {
            "_view_name": "HBoxView",
            "_dom_classes": [],
            "_model_name": "HBoxModel",
            "_view_module": "@jupyter-widgets/controls",
            "_model_module_version": "1.5.0",
            "_view_count": null,
            "_view_module_version": "1.5.0",
            "box_style": "",
            "layout": "IPY_MODEL_734c4997e15249f785d241a30ae2bb69",
            "_model_module": "@jupyter-widgets/controls",
            "children": [
              "IPY_MODEL_ce4a70bfb400402fbfa366c54f04d3bc",
              "IPY_MODEL_ce489f6ff98047f09024d814e132946f"
            ]
          }
        },
        "734c4997e15249f785d241a30ae2bb69": {
          "model_module": "@jupyter-widgets/base",
          "model_name": "LayoutModel",
          "state": {
            "_view_name": "LayoutView",
            "grid_template_rows": null,
            "right": null,
            "justify_content": null,
            "_view_module": "@jupyter-widgets/base",
            "overflow": null,
            "_model_module_version": "1.2.0",
            "_view_count": null,
            "flex_flow": null,
            "width": null,
            "min_width": null,
            "border": null,
            "align_items": null,
            "bottom": null,
            "_model_module": "@jupyter-widgets/base",
            "top": null,
            "grid_column": null,
            "overflow_y": null,
            "overflow_x": null,
            "grid_auto_flow": null,
            "grid_area": null,
            "grid_template_columns": null,
            "flex": null,
            "_model_name": "LayoutModel",
            "justify_items": null,
            "grid_row": null,
            "max_height": null,
            "align_content": null,
            "visibility": null,
            "align_self": null,
            "height": null,
            "min_height": null,
            "padding": null,
            "grid_auto_rows": null,
            "grid_gap": null,
            "max_width": null,
            "order": null,
            "_view_module_version": "1.2.0",
            "grid_template_areas": null,
            "object_position": null,
            "object_fit": null,
            "grid_auto_columns": null,
            "margin": null,
            "display": null,
            "left": null
          }
        },
        "ce4a70bfb400402fbfa366c54f04d3bc": {
          "model_module": "@jupyter-widgets/controls",
          "model_name": "FloatProgressModel",
          "state": {
            "_view_name": "ProgressView",
            "style": "IPY_MODEL_363cac53fd534e62aa2c521e71f61d2c",
            "_dom_classes": [],
            "description": "Downloading: 100%",
            "_model_name": "FloatProgressModel",
            "bar_style": "success",
            "max": 791656,
            "_view_module": "@jupyter-widgets/controls",
            "_model_module_version": "1.5.0",
            "value": 791656,
            "_view_count": null,
            "_view_module_version": "1.5.0",
            "orientation": "horizontal",
            "min": 0,
            "description_tooltip": null,
            "_model_module": "@jupyter-widgets/controls",
            "layout": "IPY_MODEL_42e875a697814a43b51adf76daec1065"
          }
        },
        "ce489f6ff98047f09024d814e132946f": {
          "model_module": "@jupyter-widgets/controls",
          "model_name": "HTMLModel",
          "state": {
            "_view_name": "HTMLView",
            "style": "IPY_MODEL_d9ad888b77254d76ad6698da30f719b6",
            "_dom_classes": [],
            "description": "",
            "_model_name": "HTMLModel",
            "placeholder": "​",
            "_view_module": "@jupyter-widgets/controls",
            "_model_module_version": "1.5.0",
            "value": " 792k/792k [00:47&lt;00:00, 16.6kB/s]",
            "_view_count": null,
            "_view_module_version": "1.5.0",
            "description_tooltip": null,
            "_model_module": "@jupyter-widgets/controls",
            "layout": "IPY_MODEL_aae2f65e204e4df09bd6c82815c40a40"
          }
        },
        "363cac53fd534e62aa2c521e71f61d2c": {
          "model_module": "@jupyter-widgets/controls",
          "model_name": "ProgressStyleModel",
          "state": {
            "_view_name": "StyleView",
            "_model_name": "ProgressStyleModel",
            "description_width": "initial",
            "_view_module": "@jupyter-widgets/base",
            "_model_module_version": "1.5.0",
            "_view_count": null,
            "_view_module_version": "1.2.0",
            "bar_color": null,
            "_model_module": "@jupyter-widgets/controls"
          }
        },
        "42e875a697814a43b51adf76daec1065": {
          "model_module": "@jupyter-widgets/base",
          "model_name": "LayoutModel",
          "state": {
            "_view_name": "LayoutView",
            "grid_template_rows": null,
            "right": null,
            "justify_content": null,
            "_view_module": "@jupyter-widgets/base",
            "overflow": null,
            "_model_module_version": "1.2.0",
            "_view_count": null,
            "flex_flow": null,
            "width": null,
            "min_width": null,
            "border": null,
            "align_items": null,
            "bottom": null,
            "_model_module": "@jupyter-widgets/base",
            "top": null,
            "grid_column": null,
            "overflow_y": null,
            "overflow_x": null,
            "grid_auto_flow": null,
            "grid_area": null,
            "grid_template_columns": null,
            "flex": null,
            "_model_name": "LayoutModel",
            "justify_items": null,
            "grid_row": null,
            "max_height": null,
            "align_content": null,
            "visibility": null,
            "align_self": null,
            "height": null,
            "min_height": null,
            "padding": null,
            "grid_auto_rows": null,
            "grid_gap": null,
            "max_width": null,
            "order": null,
            "_view_module_version": "1.2.0",
            "grid_template_areas": null,
            "object_position": null,
            "object_fit": null,
            "grid_auto_columns": null,
            "margin": null,
            "display": null,
            "left": null
          }
        },
        "d9ad888b77254d76ad6698da30f719b6": {
          "model_module": "@jupyter-widgets/controls",
          "model_name": "DescriptionStyleModel",
          "state": {
            "_view_name": "StyleView",
            "_model_name": "DescriptionStyleModel",
            "description_width": "",
            "_view_module": "@jupyter-widgets/base",
            "_model_module_version": "1.5.0",
            "_view_count": null,
            "_view_module_version": "1.2.0",
            "_model_module": "@jupyter-widgets/controls"
          }
        },
        "aae2f65e204e4df09bd6c82815c40a40": {
          "model_module": "@jupyter-widgets/base",
          "model_name": "LayoutModel",
          "state": {
            "_view_name": "LayoutView",
            "grid_template_rows": null,
            "right": null,
            "justify_content": null,
            "_view_module": "@jupyter-widgets/base",
            "overflow": null,
            "_model_module_version": "1.2.0",
            "_view_count": null,
            "flex_flow": null,
            "width": null,
            "min_width": null,
            "border": null,
            "align_items": null,
            "bottom": null,
            "_model_module": "@jupyter-widgets/base",
            "top": null,
            "grid_column": null,
            "overflow_y": null,
            "overflow_x": null,
            "grid_auto_flow": null,
            "grid_area": null,
            "grid_template_columns": null,
            "flex": null,
            "_model_name": "LayoutModel",
            "justify_items": null,
            "grid_row": null,
            "max_height": null,
            "align_content": null,
            "visibility": null,
            "align_self": null,
            "height": null,
            "min_height": null,
            "padding": null,
            "grid_auto_rows": null,
            "grid_gap": null,
            "max_width": null,
            "order": null,
            "_view_module_version": "1.2.0",
            "grid_template_areas": null,
            "object_position": null,
            "object_fit": null,
            "grid_auto_columns": null,
            "margin": null,
            "display": null,
            "left": null
          }
        },
        "379d7b61c0ff40ec9e6f3b63ed515232": {
          "model_module": "@jupyter-widgets/controls",
          "model_name": "HBoxModel",
          "state": {
            "_view_name": "HBoxView",
            "_dom_classes": [],
            "_model_name": "HBoxModel",
            "_view_module": "@jupyter-widgets/controls",
            "_model_module_version": "1.5.0",
            "_view_count": null,
            "_view_module_version": "1.5.0",
            "box_style": "",
            "layout": "IPY_MODEL_063f23bd7ab543fb966a9b6f7eb11756",
            "_model_module": "@jupyter-widgets/controls",
            "children": [
              "IPY_MODEL_67a54482c8204061bffb976d3376ea86",
              "IPY_MODEL_009d1339589b4c0799f006dd733fa726"
            ]
          }
        },
        "063f23bd7ab543fb966a9b6f7eb11756": {
          "model_module": "@jupyter-widgets/base",
          "model_name": "LayoutModel",
          "state": {
            "_view_name": "LayoutView",
            "grid_template_rows": null,
            "right": null,
            "justify_content": null,
            "_view_module": "@jupyter-widgets/base",
            "overflow": null,
            "_model_module_version": "1.2.0",
            "_view_count": null,
            "flex_flow": null,
            "width": null,
            "min_width": null,
            "border": null,
            "align_items": null,
            "bottom": null,
            "_model_module": "@jupyter-widgets/base",
            "top": null,
            "grid_column": null,
            "overflow_y": null,
            "overflow_x": null,
            "grid_auto_flow": null,
            "grid_area": null,
            "grid_template_columns": null,
            "flex": null,
            "_model_name": "LayoutModel",
            "justify_items": null,
            "grid_row": null,
            "max_height": null,
            "align_content": null,
            "visibility": null,
            "align_self": null,
            "height": null,
            "min_height": null,
            "padding": null,
            "grid_auto_rows": null,
            "grid_gap": null,
            "max_width": null,
            "order": null,
            "_view_module_version": "1.2.0",
            "grid_template_areas": null,
            "object_position": null,
            "object_fit": null,
            "grid_auto_columns": null,
            "margin": null,
            "display": null,
            "left": null
          }
        },
        "67a54482c8204061bffb976d3376ea86": {
          "model_module": "@jupyter-widgets/controls",
          "model_name": "FloatProgressModel",
          "state": {
            "_view_name": "ProgressView",
            "style": "IPY_MODEL_71b72355bf3943ff8a140316bc2ec6a7",
            "_dom_classes": [],
            "description": "Downloading: 100%",
            "_model_name": "FloatProgressModel",
            "bar_style": "success",
            "max": 1200,
            "_view_module": "@jupyter-widgets/controls",
            "_model_module_version": "1.5.0",
            "value": 1200,
            "_view_count": null,
            "_view_module_version": "1.5.0",
            "orientation": "horizontal",
            "min": 0,
            "description_tooltip": null,
            "_model_module": "@jupyter-widgets/controls",
            "layout": "IPY_MODEL_a63ec6d95c064b4b868f8deea1fdc804"
          }
        },
        "009d1339589b4c0799f006dd733fa726": {
          "model_module": "@jupyter-widgets/controls",
          "model_name": "HTMLModel",
          "state": {
            "_view_name": "HTMLView",
            "style": "IPY_MODEL_7e49808d984f46259ab71862fad9c780",
            "_dom_classes": [],
            "description": "",
            "_model_name": "HTMLModel",
            "placeholder": "​",
            "_view_module": "@jupyter-widgets/controls",
            "_model_module_version": "1.5.0",
            "value": " 1.20k/1.20k [00:00&lt;00:00, 2.06kB/s]",
            "_view_count": null,
            "_view_module_version": "1.5.0",
            "description_tooltip": null,
            "_model_module": "@jupyter-widgets/controls",
            "layout": "IPY_MODEL_6ab7622eed8b4483a7532fd722bf1a99"
          }
        },
        "71b72355bf3943ff8a140316bc2ec6a7": {
          "model_module": "@jupyter-widgets/controls",
          "model_name": "ProgressStyleModel",
          "state": {
            "_view_name": "StyleView",
            "_model_name": "ProgressStyleModel",
            "description_width": "initial",
            "_view_module": "@jupyter-widgets/base",
            "_model_module_version": "1.5.0",
            "_view_count": null,
            "_view_module_version": "1.2.0",
            "bar_color": null,
            "_model_module": "@jupyter-widgets/controls"
          }
        },
        "a63ec6d95c064b4b868f8deea1fdc804": {
          "model_module": "@jupyter-widgets/base",
          "model_name": "LayoutModel",
          "state": {
            "_view_name": "LayoutView",
            "grid_template_rows": null,
            "right": null,
            "justify_content": null,
            "_view_module": "@jupyter-widgets/base",
            "overflow": null,
            "_model_module_version": "1.2.0",
            "_view_count": null,
            "flex_flow": null,
            "width": null,
            "min_width": null,
            "border": null,
            "align_items": null,
            "bottom": null,
            "_model_module": "@jupyter-widgets/base",
            "top": null,
            "grid_column": null,
            "overflow_y": null,
            "overflow_x": null,
            "grid_auto_flow": null,
            "grid_area": null,
            "grid_template_columns": null,
            "flex": null,
            "_model_name": "LayoutModel",
            "justify_items": null,
            "grid_row": null,
            "max_height": null,
            "align_content": null,
            "visibility": null,
            "align_self": null,
            "height": null,
            "min_height": null,
            "padding": null,
            "grid_auto_rows": null,
            "grid_gap": null,
            "max_width": null,
            "order": null,
            "_view_module_version": "1.2.0",
            "grid_template_areas": null,
            "object_position": null,
            "object_fit": null,
            "grid_auto_columns": null,
            "margin": null,
            "display": null,
            "left": null
          }
        },
        "7e49808d984f46259ab71862fad9c780": {
          "model_module": "@jupyter-widgets/controls",
          "model_name": "DescriptionStyleModel",
          "state": {
            "_view_name": "StyleView",
            "_model_name": "DescriptionStyleModel",
            "description_width": "",
            "_view_module": "@jupyter-widgets/base",
            "_model_module_version": "1.5.0",
            "_view_count": null,
            "_view_module_version": "1.2.0",
            "_model_module": "@jupyter-widgets/controls"
          }
        },
        "6ab7622eed8b4483a7532fd722bf1a99": {
          "model_module": "@jupyter-widgets/base",
          "model_name": "LayoutModel",
          "state": {
            "_view_name": "LayoutView",
            "grid_template_rows": null,
            "right": null,
            "justify_content": null,
            "_view_module": "@jupyter-widgets/base",
            "overflow": null,
            "_model_module_version": "1.2.0",
            "_view_count": null,
            "flex_flow": null,
            "width": null,
            "min_width": null,
            "border": null,
            "align_items": null,
            "bottom": null,
            "_model_module": "@jupyter-widgets/base",
            "top": null,
            "grid_column": null,
            "overflow_y": null,
            "overflow_x": null,
            "grid_auto_flow": null,
            "grid_area": null,
            "grid_template_columns": null,
            "flex": null,
            "_model_name": "LayoutModel",
            "justify_items": null,
            "grid_row": null,
            "max_height": null,
            "align_content": null,
            "visibility": null,
            "align_self": null,
            "height": null,
            "min_height": null,
            "padding": null,
            "grid_auto_rows": null,
            "grid_gap": null,
            "max_width": null,
            "order": null,
            "_view_module_version": "1.2.0",
            "grid_template_areas": null,
            "object_position": null,
            "object_fit": null,
            "grid_auto_columns": null,
            "margin": null,
            "display": null,
            "left": null
          }
        },
        "34a1bec658894671a21dbfa0aaf34694": {
          "model_module": "@jupyter-widgets/controls",
          "model_name": "HBoxModel",
          "state": {
            "_view_name": "HBoxView",
            "_dom_classes": [],
            "_model_name": "HBoxModel",
            "_view_module": "@jupyter-widgets/controls",
            "_model_module_version": "1.5.0",
            "_view_count": null,
            "_view_module_version": "1.5.0",
            "box_style": "",
            "layout": "IPY_MODEL_1af81b47acfe4deca83ec58e6dd673d2",
            "_model_module": "@jupyter-widgets/controls",
            "children": [
              "IPY_MODEL_090933b9bc874abd93a7bb4d05fa0f7d",
              "IPY_MODEL_39dd82e410f84241b5ff256153585fa9"
            ]
          }
        },
        "1af81b47acfe4deca83ec58e6dd673d2": {
          "model_module": "@jupyter-widgets/base",
          "model_name": "LayoutModel",
          "state": {
            "_view_name": "LayoutView",
            "grid_template_rows": null,
            "right": null,
            "justify_content": null,
            "_view_module": "@jupyter-widgets/base",
            "overflow": null,
            "_model_module_version": "1.2.0",
            "_view_count": null,
            "flex_flow": null,
            "width": null,
            "min_width": null,
            "border": null,
            "align_items": null,
            "bottom": null,
            "_model_module": "@jupyter-widgets/base",
            "top": null,
            "grid_column": null,
            "overflow_y": null,
            "overflow_x": null,
            "grid_auto_flow": null,
            "grid_area": null,
            "grid_template_columns": null,
            "flex": null,
            "_model_name": "LayoutModel",
            "justify_items": null,
            "grid_row": null,
            "max_height": null,
            "align_content": null,
            "visibility": null,
            "align_self": null,
            "height": null,
            "min_height": null,
            "padding": null,
            "grid_auto_rows": null,
            "grid_gap": null,
            "max_width": null,
            "order": null,
            "_view_module_version": "1.2.0",
            "grid_template_areas": null,
            "object_position": null,
            "object_fit": null,
            "grid_auto_columns": null,
            "margin": null,
            "display": null,
            "left": null
          }
        },
        "090933b9bc874abd93a7bb4d05fa0f7d": {
          "model_module": "@jupyter-widgets/controls",
          "model_name": "FloatProgressModel",
          "state": {
            "_view_name": "ProgressView",
            "style": "IPY_MODEL_690e6ad6fa9c4c69b10984f2afbcf3f0",
            "_dom_classes": [],
            "description": "Downloading: 100%",
            "_model_name": "FloatProgressModel",
            "bar_style": "success",
            "max": 2950825948,
            "_view_module": "@jupyter-widgets/controls",
            "_model_module_version": "1.5.0",
            "value": 2950825948,
            "_view_count": null,
            "_view_module_version": "1.5.0",
            "orientation": "horizontal",
            "min": 0,
            "description_tooltip": null,
            "_model_module": "@jupyter-widgets/controls",
            "layout": "IPY_MODEL_e55eb3bc60e04331bd6dabc61ce35f43"
          }
        },
        "39dd82e410f84241b5ff256153585fa9": {
          "model_module": "@jupyter-widgets/controls",
          "model_name": "HTMLModel",
          "state": {
            "_view_name": "HTMLView",
            "style": "IPY_MODEL_79438472facf43fabfd7b24f16c3204b",
            "_dom_classes": [],
            "description": "",
            "_model_name": "HTMLModel",
            "placeholder": "​",
            "_view_module": "@jupyter-widgets/controls",
            "_model_module_version": "1.5.0",
            "value": " 2.95G/2.95G [00:46&lt;00:00, 63.5MB/s]",
            "_view_count": null,
            "_view_module_version": "1.5.0",
            "description_tooltip": null,
            "_model_module": "@jupyter-widgets/controls",
            "layout": "IPY_MODEL_8067515d315e470c968ba56366c43b1c"
          }
        },
        "690e6ad6fa9c4c69b10984f2afbcf3f0": {
          "model_module": "@jupyter-widgets/controls",
          "model_name": "ProgressStyleModel",
          "state": {
            "_view_name": "StyleView",
            "_model_name": "ProgressStyleModel",
            "description_width": "initial",
            "_view_module": "@jupyter-widgets/base",
            "_model_module_version": "1.5.0",
            "_view_count": null,
            "_view_module_version": "1.2.0",
            "bar_color": null,
            "_model_module": "@jupyter-widgets/controls"
          }
        },
        "e55eb3bc60e04331bd6dabc61ce35f43": {
          "model_module": "@jupyter-widgets/base",
          "model_name": "LayoutModel",
          "state": {
            "_view_name": "LayoutView",
            "grid_template_rows": null,
            "right": null,
            "justify_content": null,
            "_view_module": "@jupyter-widgets/base",
            "overflow": null,
            "_model_module_version": "1.2.0",
            "_view_count": null,
            "flex_flow": null,
            "width": null,
            "min_width": null,
            "border": null,
            "align_items": null,
            "bottom": null,
            "_model_module": "@jupyter-widgets/base",
            "top": null,
            "grid_column": null,
            "overflow_y": null,
            "overflow_x": null,
            "grid_auto_flow": null,
            "grid_area": null,
            "grid_template_columns": null,
            "flex": null,
            "_model_name": "LayoutModel",
            "justify_items": null,
            "grid_row": null,
            "max_height": null,
            "align_content": null,
            "visibility": null,
            "align_self": null,
            "height": null,
            "min_height": null,
            "padding": null,
            "grid_auto_rows": null,
            "grid_gap": null,
            "max_width": null,
            "order": null,
            "_view_module_version": "1.2.0",
            "grid_template_areas": null,
            "object_position": null,
            "object_fit": null,
            "grid_auto_columns": null,
            "margin": null,
            "display": null,
            "left": null
          }
        },
        "79438472facf43fabfd7b24f16c3204b": {
          "model_module": "@jupyter-widgets/controls",
          "model_name": "DescriptionStyleModel",
          "state": {
            "_view_name": "StyleView",
            "_model_name": "DescriptionStyleModel",
            "description_width": "",
            "_view_module": "@jupyter-widgets/base",
            "_model_module_version": "1.5.0",
            "_view_count": null,
            "_view_module_version": "1.2.0",
            "_model_module": "@jupyter-widgets/controls"
          }
        },
        "8067515d315e470c968ba56366c43b1c": {
          "model_module": "@jupyter-widgets/base",
          "model_name": "LayoutModel",
          "state": {
            "_view_name": "LayoutView",
            "grid_template_rows": null,
            "right": null,
            "justify_content": null,
            "_view_module": "@jupyter-widgets/base",
            "overflow": null,
            "_model_module_version": "1.2.0",
            "_view_count": null,
            "flex_flow": null,
            "width": null,
            "min_width": null,
            "border": null,
            "align_items": null,
            "bottom": null,
            "_model_module": "@jupyter-widgets/base",
            "top": null,
            "grid_column": null,
            "overflow_y": null,
            "overflow_x": null,
            "grid_auto_flow": null,
            "grid_area": null,
            "grid_template_columns": null,
            "flex": null,
            "_model_name": "LayoutModel",
            "justify_items": null,
            "grid_row": null,
            "max_height": null,
            "align_content": null,
            "visibility": null,
            "align_self": null,
            "height": null,
            "min_height": null,
            "padding": null,
            "grid_auto_rows": null,
            "grid_gap": null,
            "max_width": null,
            "order": null,
            "_view_module_version": "1.2.0",
            "grid_template_areas": null,
            "object_position": null,
            "object_fit": null,
            "grid_auto_columns": null,
            "margin": null,
            "display": null,
            "left": null
          }
        }
      }
    }
  },
  "cells": [
    {
      "cell_type": "markdown",
      "metadata": {
        "id": "view-in-github",
        "colab_type": "text"
      },
      "source": [
        "<a href=\"https://colab.research.google.com/github/Dilyarbuzan/Transformers-in-NLP/blob/main/T5-large.ipynb\" target=\"_parent\"><img src=\"https://colab.research.google.com/assets/colab-badge.svg\" alt=\"Open In Colab\"/></a>"
      ]
    },
    {
      "cell_type": "code",
      "metadata": {
        "colab": {
          "base_uri": "https://localhost:8080/"
        },
        "id": "Nh64X1ZdC4aB",
        "outputId": "b49ce22d-bf57-457a-f3f4-cfd94bcbd98b"
      },
      "source": [
        "!pip install transformers"
      ],
      "execution_count": 1,
      "outputs": [
        {
          "output_type": "stream",
          "text": [
            "Requirement already satisfied: transformers in /usr/local/lib/python3.6/dist-packages (4.3.2)\n",
            "Requirement already satisfied: packaging in /usr/local/lib/python3.6/dist-packages (from transformers) (20.9)\n",
            "Requirement already satisfied: numpy>=1.17 in /usr/local/lib/python3.6/dist-packages (from transformers) (1.19.5)\n",
            "Requirement already satisfied: filelock in /usr/local/lib/python3.6/dist-packages (from transformers) (3.0.12)\n",
            "Requirement already satisfied: regex!=2019.12.17 in /usr/local/lib/python3.6/dist-packages (from transformers) (2019.12.20)\n",
            "Requirement already satisfied: importlib-metadata; python_version < \"3.8\" in /usr/local/lib/python3.6/dist-packages (from transformers) (3.4.0)\n",
            "Requirement already satisfied: sacremoses in /usr/local/lib/python3.6/dist-packages (from transformers) (0.0.43)\n",
            "Requirement already satisfied: dataclasses; python_version < \"3.7\" in /usr/local/lib/python3.6/dist-packages (from transformers) (0.8)\n",
            "Requirement already satisfied: requests in /usr/local/lib/python3.6/dist-packages (from transformers) (2.23.0)\n",
            "Requirement already satisfied: tokenizers<0.11,>=0.10.1 in /usr/local/lib/python3.6/dist-packages (from transformers) (0.10.1)\n",
            "Requirement already satisfied: tqdm>=4.27 in /usr/local/lib/python3.6/dist-packages (from transformers) (4.41.1)\n",
            "Requirement already satisfied: pyparsing>=2.0.2 in /usr/local/lib/python3.6/dist-packages (from packaging->transformers) (2.4.7)\n",
            "Requirement already satisfied: zipp>=0.5 in /usr/local/lib/python3.6/dist-packages (from importlib-metadata; python_version < \"3.8\"->transformers) (3.4.0)\n",
            "Requirement already satisfied: typing-extensions>=3.6.4; python_version < \"3.8\" in /usr/local/lib/python3.6/dist-packages (from importlib-metadata; python_version < \"3.8\"->transformers) (3.7.4.3)\n",
            "Requirement already satisfied: six in /usr/local/lib/python3.6/dist-packages (from sacremoses->transformers) (1.15.0)\n",
            "Requirement already satisfied: joblib in /usr/local/lib/python3.6/dist-packages (from sacremoses->transformers) (1.0.0)\n",
            "Requirement already satisfied: click in /usr/local/lib/python3.6/dist-packages (from sacremoses->transformers) (7.1.2)\n",
            "Requirement already satisfied: idna<3,>=2.5 in /usr/local/lib/python3.6/dist-packages (from requests->transformers) (2.10)\n",
            "Requirement already satisfied: chardet<4,>=3.0.2 in /usr/local/lib/python3.6/dist-packages (from requests->transformers) (3.0.4)\n",
            "Requirement already satisfied: urllib3!=1.25.0,!=1.25.1,<1.26,>=1.21.1 in /usr/local/lib/python3.6/dist-packages (from requests->transformers) (1.24.3)\n",
            "Requirement already satisfied: certifi>=2017.4.17 in /usr/local/lib/python3.6/dist-packages (from requests->transformers) (2020.12.5)\n"
          ],
          "name": "stdout"
        }
      ]
    },
    {
      "cell_type": "code",
      "metadata": {
        "colab": {
          "base_uri": "https://localhost:8080/"
        },
        "id": "Qy54YbZVcv5t",
        "outputId": "0113be45-7c20-4e04-cb80-cae52ee2b8fa"
      },
      "source": [
        "!pip install sentencepiece"
      ],
      "execution_count": 2,
      "outputs": [
        {
          "output_type": "stream",
          "text": [
            "Requirement already satisfied: sentencepiece in /usr/local/lib/python3.6/dist-packages (0.1.95)\n"
          ],
          "name": "stdout"
        }
      ]
    },
    {
      "cell_type": "code",
      "metadata": {
        "id": "Jl0Y6QYPFOwx",
        "colab": {
          "base_uri": "https://localhost:8080/",
          "height": 164,
          "referenced_widgets": [
            "04f103d4773d4721a35b111bf6bc74a7",
            "734c4997e15249f785d241a30ae2bb69",
            "ce4a70bfb400402fbfa366c54f04d3bc",
            "ce489f6ff98047f09024d814e132946f",
            "363cac53fd534e62aa2c521e71f61d2c",
            "42e875a697814a43b51adf76daec1065",
            "d9ad888b77254d76ad6698da30f719b6",
            "aae2f65e204e4df09bd6c82815c40a40",
            "379d7b61c0ff40ec9e6f3b63ed515232",
            "063f23bd7ab543fb966a9b6f7eb11756",
            "67a54482c8204061bffb976d3376ea86",
            "009d1339589b4c0799f006dd733fa726",
            "71b72355bf3943ff8a140316bc2ec6a7",
            "a63ec6d95c064b4b868f8deea1fdc804",
            "7e49808d984f46259ab71862fad9c780",
            "6ab7622eed8b4483a7532fd722bf1a99",
            "34a1bec658894671a21dbfa0aaf34694",
            "1af81b47acfe4deca83ec58e6dd673d2",
            "090933b9bc874abd93a7bb4d05fa0f7d",
            "39dd82e410f84241b5ff256153585fa9",
            "690e6ad6fa9c4c69b10984f2afbcf3f0",
            "e55eb3bc60e04331bd6dabc61ce35f43",
            "79438472facf43fabfd7b24f16c3204b",
            "8067515d315e470c968ba56366c43b1c"
          ]
        },
        "outputId": "09e253b2-fbd3-47c6-9c8f-6b8c968538fb"
      },
      "source": [
        "from transformers import T5ForConditionalGeneration, T5Tokenizer, T5Config\n",
        "import torch\n",
        "\n",
        "device = torch.device(\"cuda\")\n",
        "tokenizer = T5Tokenizer.from_pretrained('t5-large')\n",
        "model = T5ForConditionalGeneration.from_pretrained('t5-large').to(device)\n",
        "\n",
        "\n"
      ],
      "execution_count": 1,
      "outputs": [
        {
          "output_type": "display_data",
          "data": {
            "application/vnd.jupyter.widget-view+json": {
              "model_id": "04f103d4773d4721a35b111bf6bc74a7",
              "version_minor": 0,
              "version_major": 2
            },
            "text/plain": [
              "HBox(children=(FloatProgress(value=0.0, description='Downloading', max=791656.0, style=ProgressStyle(descripti…"
            ]
          },
          "metadata": {
            "tags": []
          }
        },
        {
          "output_type": "stream",
          "text": [
            "\n"
          ],
          "name": "stdout"
        },
        {
          "output_type": "display_data",
          "data": {
            "application/vnd.jupyter.widget-view+json": {
              "model_id": "379d7b61c0ff40ec9e6f3b63ed515232",
              "version_minor": 0,
              "version_major": 2
            },
            "text/plain": [
              "HBox(children=(FloatProgress(value=0.0, description='Downloading', max=1200.0, style=ProgressStyle(description…"
            ]
          },
          "metadata": {
            "tags": []
          }
        },
        {
          "output_type": "stream",
          "text": [
            "\n"
          ],
          "name": "stdout"
        },
        {
          "output_type": "display_data",
          "data": {
            "application/vnd.jupyter.widget-view+json": {
              "model_id": "34a1bec658894671a21dbfa0aaf34694",
              "version_minor": 0,
              "version_major": 2
            },
            "text/plain": [
              "HBox(children=(FloatProgress(value=0.0, description='Downloading', max=2950825948.0, style=ProgressStyle(descr…"
            ]
          },
          "metadata": {
            "tags": []
          }
        },
        {
          "output_type": "stream",
          "text": [
            "\n"
          ],
          "name": "stdout"
        }
      ]
    },
    {
      "cell_type": "code",
      "metadata": {
        "id": "Ws9m1hr6rexF"
      },
      "source": [
        ""
      ],
      "execution_count": 2,
      "outputs": []
    },
    {
      "cell_type": "code",
      "metadata": {
        "id": "rywZOYkect64"
      },
      "source": [
        "def preform_task(task, text, ml):\n",
        "  \"\"\"\n",
        "  task: the task which should be preformed. i.e translation, summarization, ....\n",
        "  text: is the text which should be transformed \n",
        "  ml: maximum length (tokens). \n",
        "  \"\"\"\n",
        "  text = text.strip().replace(\"\\n\", \"\")\n",
        "  text = task + \": \" + text\n",
        "  tokenized_txt = tokenizer.encode(text, return_tensors = \"pt\").to(device)\n",
        "\n",
        "  output_ids = model.generate(tokenized_txt, max_length=ml, min_length=30, num_beams=4, early_stopping=True, no_repeat_ngram_size=2)\n",
        "  output = tokenizer.decode(output_ids[0], skip_special_tokens=True)\n",
        "  return output"
      ],
      "execution_count": 4,
      "outputs": []
    },
    {
      "cell_type": "code",
      "metadata": {
        "id": "Uv5t1b1mmhml"
      },
      "source": [
        ""
      ],
      "execution_count": 3,
      "outputs": []
    },
    {
      "cell_type": "markdown",
      "metadata": {
        "id": "Z__Uz8GeibCg"
      },
      "source": [
        "here is an example of spacex article summarized "
      ]
    },
    {
      "cell_type": "code",
      "metadata": {
        "colab": {
          "base_uri": "https://localhost:8080/"
        },
        "id": "04x2sRViignZ",
        "outputId": "0aa2e4f2-26a8-4bd6-ef72-9d55de5ba393"
      },
      "source": [
        "txt = \"\"\"\n",
        "SpaceX announced Monday that it will fly a space tourism flight as early as the fourth quarter of this year, billing it as the first \"all-civilian\" mission to space.\n",
        "\n",
        "A tech entrepreneur named Jared Isaacman has financed the mission, named \"Inspiration4,\" and will serve as commander aboard the autonomous Crew Dragon spacecraft. Isaacman, 37, is a pilot rated to fly commercial and military aircraft, but he has no formal astronaut training. He is founder and chief executive officer of Shift4 Payments, a digital payments company.\n",
        "\n",
        "\"My passion for aviation and the dream of going to space has really been lifelong,\" Isaacman said during a news conference.\n",
        "\n",
        "Isaacman clearly wants to go to space, but he also intends the four-person mission to spread goodwill back on Earth. So he has committed to donating $100 million to St. Jude Children’s Research Hospital and is raffling off one of the seats to US citizens who donate at least $10 to the hospital. Another seat will go to a \"St. Jude ambassador,\" presumably chosen by the hospital. The final seat with be chosen via an entrepreneurial competition in collaboration with his company, Shift4 Payments.\n",
        "\n",
        "\"This is an important milestone toward enabling access to space for everyone,\" said Elon Musk in a call with reporters. \"Because, at first, things are very expensive, and it is only through missions like this that we're able to bring the cost down over time and make space accessible to all.\"\n",
        "\n",
        "“And other forms of stress testing”\n",
        "The announcement comes less than a week after Axiom Space announced the four crew members of its \"first private crew\" to visit the International Space Station. That Crew Dragon mission will be commanded by Axiom employee and former astronaut Michael López-Alegría, with three customers who are paying about $55 million each to dock to the International Space Station for about eight days. Given that this \"Ax-1 mission\" is due to launch no earlier than January 2022, it seems likely that Isaacman's Inspiration4 mission will fly first.\n",
        "\n",
        "According to SpaceX, Isaacman and the Inspiration4 crew will undergo commercial astronaut training by the company on the Falcon 9 launch vehicle and Dragon spacecraft, including \"a specific focus on orbital mechanics, operating in microgravity, zero gravity, and other forms of stress testing.\" The multiday mission will launch from historic Launch Complex 39A at NASA’s Kennedy Space Center. As a \"free flyer\" mission, it will not dock with the International Space Station.\n",
        "\n",
        "This second announced commercial mission for Crew Dragon sets up an extremely busy period for the program. Beginning with the Crew-1 mission for NASA in November 2020, SpaceX could fly as many as five crewed missions during a 15-month period, including three human spaceflights for NASA.\n",
        "\n",
        "This also appears to bode well for SpaceX's efforts to use Crew Dragon for more than just NASA missions, suggesting there may be a market for orbital tourism in which going into orbit around Earth is a destination in and of itself.\n",
        "\"\"\"\n",
        "print(f\"Original text :{txt}\")\n",
        "summary = preform_task(\"Summarize\", txt, ml=130)\n",
        "print(f\"Summarization: {summary}\")"
      ],
      "execution_count": 9,
      "outputs": [
        {
          "output_type": "stream",
          "text": [
            "Token indices sequence length is longer than the specified maximum sequence length for this model (677 > 512). Running this sequence through the model will result in indexing errors\n"
          ],
          "name": "stderr"
        },
        {
          "output_type": "stream",
          "text": [
            "Original text :\n",
            "SpaceX announced Monday that it will fly a space tourism flight as early as the fourth quarter of this year, billing it as the first \"all-civilian\" mission to space.\n",
            "\n",
            "A tech entrepreneur named Jared Isaacman has financed the mission, named \"Inspiration4,\" and will serve as commander aboard the autonomous Crew Dragon spacecraft. Isaacman, 37, is a pilot rated to fly commercial and military aircraft, but he has no formal astronaut training. He is founder and chief executive officer of Shift4 Payments, a digital payments company.\n",
            "\n",
            "\"My passion for aviation and the dream of going to space has really been lifelong,\" Isaacman said during a news conference.\n",
            "\n",
            "Isaacman clearly wants to go to space, but he also intends the four-person mission to spread goodwill back on Earth. So he has committed to donating $100 million to St. Jude Children’s Research Hospital and is raffling off one of the seats to US citizens who donate at least $10 to the hospital. Another seat will go to a \"St. Jude ambassador,\" presumably chosen by the hospital. The final seat with be chosen via an entrepreneurial competition in collaboration with his company, Shift4 Payments.\n",
            "\n",
            "\"This is an important milestone toward enabling access to space for everyone,\" said Elon Musk in a call with reporters. \"Because, at first, things are very expensive, and it is only through missions like this that we're able to bring the cost down over time and make space accessible to all.\"\n",
            "\n",
            "“And other forms of stress testing”\n",
            "The announcement comes less than a week after Axiom Space announced the four crew members of its \"first private crew\" to visit the International Space Station. That Crew Dragon mission will be commanded by Axiom employee and former astronaut Michael López-Alegría, with three customers who are paying about $55 million each to dock to the International Space Station for about eight days. Given that this \"Ax-1 mission\" is due to launch no earlier than January 2022, it seems likely that Isaacman's Inspiration4 mission will fly first.\n",
            "\n",
            "According to SpaceX, Isaacman and the Inspiration4 crew will undergo commercial astronaut training by the company on the Falcon 9 launch vehicle and Dragon spacecraft, including \"a specific focus on orbital mechanics, operating in microgravity, zero gravity, and other forms of stress testing.\" The multiday mission will launch from historic Launch Complex 39A at NASA’s Kennedy Space Center. As a \"free flyer\" mission, it will not dock with the International Space Station.\n",
            "\n",
            "This second announced commercial mission for Crew Dragon sets up an extremely busy period for the program. Beginning with the Crew-1 mission for NASA in November 2020, SpaceX could fly as many as five crewed missions during a 15-month period, including three human spaceflights for NASA.\n",
            "\n",
            "This also appears to bode well for SpaceX's efforts to use Crew Dragon for more than just NASA missions, suggesting there may be a market for orbital tourism in which going into orbit around Earth is a destination in and of itself.\n",
            "\n",
            "Summarization: in 2022. SpaceX could fly as many as five crewed missions during a 15-month period, including three human spaceflights for NASA.This could be the first \"all-civilian\" mission to space.SpaceX CEO Elon Musk: \"This is an important milestone toward enabling space access for everyone\"The mission, called Inspiration4, will fly from Kennedy Space Center in Florida.\n"
          ],
          "name": "stdout"
        }
      ]
    },
    {
      "cell_type": "markdown",
      "metadata": {
        "id": "nKjOmohUtn7u"
      },
      "source": [
        "Here is a translation from English to France"
      ]
    },
    {
      "cell_type": "code",
      "metadata": {
        "colab": {
          "base_uri": "https://localhost:8080/"
        },
        "id": "WVQPhCEKjSiO",
        "outputId": "8f44c417-ee64-45f7-dd0f-f6ad896c83eb"
      },
      "source": [
        "input = \"Hello there, Transformers are awesome and the community is great.\"\n",
        "print(f\"Original text :{input}\")\n",
        "translation = preform_task(\"translate English to France\", input, ml=130)\n",
        "print(f\"Translation: {translation}\")"
      ],
      "execution_count": 8,
      "outputs": [
        {
          "output_type": "stream",
          "text": [
            "Original text :Hello there, Transformers are awesome and the community is great.\n",
            "Translation: Bonjour là, Transformers sont fabuleux et la communauté est géniale. Je ne peux pas m'empêcher de vous en féliciter.\n"
          ],
          "name": "stdout"
        }
      ]
    },
    {
      "cell_type": "code",
      "metadata": {
        "id": "U_6U_py2uXMH"
      },
      "source": [
        ""
      ],
      "execution_count": null,
      "outputs": []
    }
  ]
}